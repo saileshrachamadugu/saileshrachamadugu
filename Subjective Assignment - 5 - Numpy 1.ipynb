{
 "cells": [
  {
   "cell_type": "markdown",
   "metadata": {},
   "source": [
    "# Assignment"
   ]
  },
  {
   "cell_type": "markdown",
   "metadata": {},
   "source": [
    "Q1. Write the NumPy program to create a 2d array with 6 on the border\n",
    "and 0 inside?\n",
    "\n",
    "    Expected OutputOriginal array-\n",
    "    [ [6 6 6 6 6]\n",
    "     [ 6 6 6 6 6]\n",
    "     [ 6 6 6 6 6 ]\n",
    "    [ 6 6 6 6 6 ]\n",
    "    [ 6 6 6 6 ] ].\n",
    "    6 on the border and 0 inside in the array-\n",
    "    [[ 6 6 6 6 6]\n",
    "    [ 6 0 0 0 6]\n",
    "    [ 6 0 0 0 6]\n",
    "    [ 6 0 0 0 6]\n",
    "    [ 6 6 6 6 6]]."
   ]
  },
  {
   "cell_type": "code",
   "execution_count": 1,
   "metadata": {},
   "outputs": [
    {
     "name": "stdout",
     "output_type": "stream",
     "text": [
      "input matrix\n",
      "[[6. 6. 6. 6. 6.]\n",
      " [6. 6. 6. 6. 6.]\n",
      " [6. 6. 6. 6. 6.]\n",
      " [6. 6. 6. 6. 6.]\n",
      " [6. 6. 6. 6. 6.]]\n",
      "output matrix\n",
      "[[6. 6. 6. 6. 6.]\n",
      " [6. 0. 0. 0. 6.]\n",
      " [6. 0. 0. 0. 6.]\n",
      " [6. 0. 0. 0. 6.]\n",
      " [6. 6. 6. 6. 6.]]\n"
     ]
    }
   ],
   "source": [
    "import numpy as np\n",
    "a=6*np.ones((5,5))\n",
    "print('input matrix')\n",
    "print(a)\n",
    "a[1:-1,1:-1]=0\n",
    "print('output matrix')\n",
    "print(a)"
   ]
  },
  {
   "cell_type": "markdown",
   "metadata": {},
   "source": [
    "Q2. Write the NumPy program to create a 8x8 matrix and fill it with the\n",
    "checkerboard pattern?\n",
    "    \n",
    "    Checkerboard pattern-\n",
    "    [[3 9 3 9 3 9 3 9]\n",
    "    [9 3 9 3 9 3 9 3]\n",
    "    [3 9 3 9 3 9 3 9]\n",
    "    [9 3 9 3 9 3 9 3]\n",
    "    [3 9 3 9 3 9 3 9]\n",
    "    [9 3 9 3 9 3 9 3]\n",
    "    [3 9 3 9 3 9 3 9]\n",
    "    [9 3 9 3 9 3 9 3]]."
   ]
  },
  {
   "cell_type": "code",
   "execution_count": 2,
   "metadata": {},
   "outputs": [
    {
     "data": {
      "text/plain": [
       "array([[3., 3., 3., 3., 3., 3., 3., 3.],\n",
       "       [3., 9., 3., 9., 3., 9., 3., 9.],\n",
       "       [3., 3., 3., 3., 3., 3., 3., 3.],\n",
       "       [3., 9., 3., 9., 3., 9., 3., 9.],\n",
       "       [3., 3., 3., 3., 3., 3., 3., 3.],\n",
       "       [3., 9., 3., 9., 3., 9., 3., 9.],\n",
       "       [3., 3., 3., 3., 3., 3., 3., 3.],\n",
       "       [3., 9., 3., 9., 3., 9., 3., 9.]])"
      ]
     },
     "execution_count": 2,
     "metadata": {},
     "output_type": "execute_result"
    }
   ],
   "source": [
    "a=np.ones((8,8))*3\n",
    "for i in range(4):\n",
    "    for j in range(4):\n",
    "        if(((2*i+1) in [1,3,5,7]) | ((2*j+1) in [1,3,5,7])):\n",
    "            a[(2*i+1),(2*j+1)]=9\n",
    "a\n"
   ]
  },
  {
   "cell_type": "markdown",
   "metadata": {},
   "source": [
    "Q3. Write the NumPy program to create an empty and a full array.\n",
    " \n",
    "     Expected Output-\n",
    "    [[4.45057637e-308 1.78021527e-306 8.45549797e-307 1.37962049e-306]\n",
    "    [1.11260619e-306 1.78010255e-306 9.79054228e-307 4.45057637e-308]\n",
    "    [8.45596650e-307 9.34602321e-307 4.94065646e-322 0.00000000e+000]]\n",
    "    [[6 6 6]\n",
    "    [6 6 6]\n",
    "    [6 6 6]]\n"
   ]
  },
  {
   "cell_type": "code",
   "execution_count": 3,
   "metadata": {},
   "outputs": [
    {
     "name": "stdout",
     "output_type": "stream",
     "text": [
      "empty array is:, [[0.00000000e+000 0.00000000e+000 0.00000000e+000]\n",
      " [0.00000000e+000 0.00000000e+000 6.89715642e-321]\n",
      " [1.05699242e-307 8.01097888e-307 2.84327065e-308]]\n"
     ]
    },
    {
     "data": {
      "text/plain": [
       "array([[6., 6., 6.],\n",
       "       [6., 6., 6.],\n",
       "       [6., 6., 6.]])"
      ]
     },
     "execution_count": 3,
     "metadata": {},
     "output_type": "execute_result"
    }
   ],
   "source": [
    "import numpy as np\n",
    "print('empty array is:,',np.empty((3,3)))\n",
    "a=np.ones((3,3))*6\n",
    "a"
   ]
  },
  {
   "cell_type": "markdown",
   "metadata": {},
   "source": [
    "Q4. Write the NumPy program to convert the values of Centigrade\n",
    "degrees into the Fahrenheit degrees and the centigrade values are\n",
    "stored in the NumPy array.\n",
    "    \n",
    "    Sample Array -[0, 12, 45.21 ,34, 99.91]\n",
    "    Expected OutputValues in Fahrenheit degrees-\n",
    "    [ 0. 12. 45.21 34. 99.91]\n",
    "    Values in Centigrade degrees-\n",
    "    [-17.77777778 -11.11111111 7.33888889 1.11111111 37.72777778]"
   ]
  },
  {
   "cell_type": "code",
   "execution_count": 4,
   "metadata": {},
   "outputs": [
    {
     "name": "stdout",
     "output_type": "stream",
     "text": [
      "values in farenheit:\n",
      "[0, 12, 45.21, 34, 99.91]\n",
      "values in centigrade:\n",
      "[-17.77777778 -11.11111111   7.33888889   1.11111111  37.72777778]\n"
     ]
    }
   ],
   "source": [
    "b=[0, 12, 45.21 ,34, 99.91]\n",
    "a=np.array(b)\n",
    "print('values in farenheit:')\n",
    "print(b)\n",
    "print('values in centigrade:')\n",
    "\n",
    "print((a-32)*(5/9))"
   ]
  },
  {
   "cell_type": "markdown",
   "metadata": {},
   "source": [
    "Q5. Write the NumPy program to find the real and imaginary parts of an\n",
    "array of complex numbers?\n",
    "\n",
    "    Expected OutputOriginal array [ 1.00000000+0.j 0.70710678+0.70710678j]\n",
    "    Real part of the array-\n",
    "    [ 1. 0.70710678]\n",
    "    Imaginary part of the array-\n",
    "    [ 0. 0.70710678]"
   ]
  },
  {
   "cell_type": "code",
   "execution_count": 5,
   "metadata": {},
   "outputs": [
    {
     "name": "stdout",
     "output_type": "stream",
     "text": [
      "real parts is : [1.         0.70710678]\n",
      "imaginary parts is: [0.         0.70710678]\n"
     ]
    }
   ],
   "source": [
    "a= [ 1.00000000+0.j, 0.70710678+0.70710678j]\n",
    "b=np.array(a)\n",
    "re=b.real\n",
    "print('real parts is :',re)\n",
    "im=b.imag\n",
    "print('imaginary parts is:',im)"
   ]
  },
  {
   "cell_type": "markdown",
   "metadata": {},
   "source": [
    "Q6. Write the NumPy program to test whether each element of a 1-D\n",
    "array is also present in the second array?\n",
    "\n",
    "    Expected OutputArray1: [ 0 10 20 40 60]\n",
    "    Array2: [0, 40]\n",
    "    Compare each element of array1 and array2\n",
    "    [ True False False True False]\n"
   ]
  },
  {
   "cell_type": "code",
   "execution_count": 6,
   "metadata": {},
   "outputs": [
    {
     "data": {
      "text/plain": [
       "array([10, 40])"
      ]
     },
     "execution_count": 6,
     "metadata": {},
     "output_type": "execute_result"
    }
   ],
   "source": []
  },
  {
   "cell_type": "markdown",
   "metadata": {},
   "source": [
    "Q7. Write the NumPy program to find common values between two\n",
    "arrays?\n",
    "    \n",
    "    Expected OutputArray1: [ 0 10 20 40 60]\n",
    "    Array2: [10, 30, 40]\n",
    "    Common values between two arrays-\n",
    "    [10 40]"
   ]
  },
  {
   "cell_type": "code",
   "execution_count": 7,
   "metadata": {},
   "outputs": [
    {
     "data": {
      "text/plain": [
       "array([10, 40])"
      ]
     },
     "execution_count": 7,
     "metadata": {},
     "output_type": "execute_result"
    }
   ],
   "source": [
    "a=[0,10,20,40,60]\n",
    "b=[10,30,40]\n",
    "c=np.array(a)\n",
    "d=np.array(b)\n",
    "np.intersect1d(c,d)"
   ]
  },
  {
   "cell_type": "markdown",
   "metadata": {},
   "source": [
    "Q8. Write the NumPy program to get the unique elements of an array?\n",
    "\n",
    "    Expected OutputOriginal array-\n",
    "    [10 10 20 20 30 30]\n",
    "    Unique elements of the above array-\n",
    "    [10 20 30]\n",
    "    P a g e 14 | 44\n",
    "    Original array-\n",
    "    [[1 1]\n",
    "    [2 3]]\n",
    "    Unique elements of the above array-\n",
    "    [1 2 3]"
   ]
  },
  {
   "cell_type": "code",
   "execution_count": 8,
   "metadata": {},
   "outputs": [
    {
     "name": "stdout",
     "output_type": "stream",
     "text": [
      "[10 20 30]\n",
      "[1 2 3]\n"
     ]
    }
   ],
   "source": [
    "print(np.unique([10,10,20,20,30,30]))\n",
    "print(np.unique([[1 ,1],\n",
    "[2, 3]]))"
   ]
  },
  {
   "cell_type": "markdown",
   "metadata": {},
   "source": [
    "Q9. Write the NumPy program to find the set exclusive-or of two arrays.\n",
    "Set exclusive-or will return the sorted, unique values that are in\n",
    "only one (not both) of the input arrays?\n",
    "\n",
    "    Array1- [ 0 10 20 40 60 80]\n",
    "    Array2- [10, 30, 40, 50, 70]\n",
    "    Unique values that are in only one (not both) of the input arrays-\n",
    "    [ 0 20 30 50 60 70 80]"
   ]
  },
  {
   "cell_type": "code",
   "execution_count": 9,
   "metadata": {},
   "outputs": [
    {
     "name": "stdout",
     "output_type": "stream",
     "text": [
      "required solution is:\n"
     ]
    },
    {
     "data": {
      "text/plain": [
       "array([ 0, 20, 30, 50, 60, 70, 80])"
      ]
     },
     "execution_count": 9,
     "metadata": {},
     "output_type": "execute_result"
    }
   ],
   "source": [
    "a=[ 0, 10, 20, 40, 60, 80]\n",
    "b=[70,10, 30, 40, 50]\n",
    "c=np.array(a)\n",
    "d=np.array(b)\n",
    "print('required solution is:')\n",
    "np.setxor1d(c,d)"
   ]
  },
  {
   "cell_type": "markdown",
   "metadata": {},
   "source": [
    "Q10. Write the NumPy program to test if all elements in an array\n",
    "evaluate to True ?\n",
    " \n",
    "Note: 0 evaluates to False in NumPy"
   ]
  },
  {
   "cell_type": "code",
   "execution_count": 12,
   "metadata": {},
   "outputs": [
    {
     "name": "stdout",
     "output_type": "stream",
     "text": [
      "True\n"
     ]
    },
    {
     "data": {
      "text/plain": [
       "False"
      ]
     },
     "execution_count": 12,
     "metadata": {},
     "output_type": "execute_result"
    }
   ],
   "source": [
    "a=[10, 20, 40, 60, 80]\n",
    "c=np.array(a)\n",
    "print(np.all(c))\n",
    "b=[0,1,2,3]\n",
    "np.all(b)"
   ]
  },
  {
   "cell_type": "markdown",
   "metadata": {},
   "source": [
    "Q11. Write the NumPy program to test whether any array element along\n",
    "the given axis evaluates to True?\n",
    " \n",
    "Note: 0 evaluates to False in NumPy"
   ]
  },
  {
   "cell_type": "code",
   "execution_count": 16,
   "metadata": {},
   "outputs": [
    {
     "name": "stdout",
     "output_type": "stream",
     "text": [
      "[ True  True  True  True  True]\n"
     ]
    },
    {
     "data": {
      "text/plain": [
       "False"
      ]
     },
     "execution_count": 16,
     "metadata": {},
     "output_type": "execute_result"
    }
   ],
   "source": [
    "a=[10, 20, 40, 60, 80]\n",
    "c=np.array(a).reshape((5,1))\n",
    "print(np.all(c,axis=1))\n",
    "b=[0,1,2,3]\n",
    "np.all(b,axis=0)"
   ]
  },
  {
   "cell_type": "markdown",
   "metadata": {},
   "source": [
    "Q12. Write the NumPy program to construct an array by repeating?\n",
    "\n",
    "    Sample array- [1, 2, 3, 4]\n",
    "    Expected OutputOriginal array\n",
    "    [1, 2, 3, 4]\n",
    "    Repeating 2 times\n",
    "    [1 2 3 4 1 2 3 4]\n",
    "    Repeating 3 times\n",
    "    [1 2 3 4 1 2 3 4 1 2 3 4]"
   ]
  },
  {
   "cell_type": "code",
   "execution_count": 11,
   "metadata": {},
   "outputs": [
    {
     "data": {
      "text/plain": [
       "array([ 0, 10, 20, 40, 60, 80,  0, 10, 20, 40, 60, 80])"
      ]
     },
     "execution_count": 11,
     "metadata": {},
     "output_type": "execute_result"
    }
   ],
   "source": [
    "a=[0, 10, 20, 40, 60, 80]\n",
    "np.tile(a,2)"
   ]
  },
  {
   "cell_type": "markdown",
   "metadata": {},
   "source": [
    "Q13. Write the NumPy program to find the indices of the maximum and\n",
    "minimum values with the given axis of an array?\n",
    "\n",
    "    Original array- [1 2 3 4 5 6]\n",
    "    Maximum Values- 5\n",
    "    Minimum Values- 0"
   ]
  },
  {
   "cell_type": "code",
   "execution_count": 10,
   "metadata": {},
   "outputs": [
    {
     "name": "stdout",
     "output_type": "stream",
     "text": [
      "max element index in given list:  (array([6], dtype=int64),)\n",
      "min element index in given list: (array([1], dtype=int64),)\n"
     ]
    }
   ],
   "source": [
    "a=[9,0, 10, 20, 40, 60, 80]\n",
    "print('max element index in given list: ',np.where(a==np.amax(a)))\n",
    "print('min element index in given list:',np.where(a==np.amin(a)))"
   ]
  },
  {
   "cell_type": "markdown",
   "metadata": {},
   "source": [
    "Q14. Write the NumPy program compare two arrays using numpy?\n",
    "\n",
    "    Array a- [1 2]\n",
    "    Array b- [4 5]\n",
    "    a > b\n",
    "    [False False]\n",
    "    a >= b\n",
    "    [False False]\n",
    "    a < b\n",
    "    [ True True]\n",
    "    a <= b\n",
    "    [ True True]\n"
   ]
  },
  {
   "cell_type": "code",
   "execution_count": 17,
   "metadata": {},
   "outputs": [
    {
     "name": "stdout",
     "output_type": "stream",
     "text": [
      "a>b:\n",
      "[False False]\n",
      "a>=b:\n",
      "[False False]\n",
      "a<b\n",
      "[ True  True]\n",
      "a<=b:\n",
      "[ True  True]\n"
     ]
    }
   ],
   "source": [
    "a=np.array([1,2])\n",
    "b=np.array([4,5])\n",
    "print('a>b:')\n",
    "print(np.greater(a,b))\n",
    "print('a>=b:')\n",
    "print(np.greater_equal(a,b))\n",
    "print('a<b')\n",
    "print(np.less(a,b))\n",
    "print('a<=b:')\n",
    "print(np.less_equal(a,b))"
   ]
  },
  {
   "cell_type": "markdown",
   "metadata": {},
   "source": [
    "Q15. Write the NumPy program to sort an along the first, last axis of an\n",
    "array?\n",
    "\n",
    "    Sample array- [[2,5],[4,4]]\n",
    "    Expected OutputOriginal array:\n",
    "    [[4 6]\n",
    "    [2 1]]\n",
    "    Sort along the first axis:\n",
    "    [[2 1]\n",
    "    [4 6]]\n",
    "    Sort along the last axis-\n",
    "    [[1 2]\n",
    "    [4 6]]"
   ]
  },
  {
   "cell_type": "code",
   "execution_count": 18,
   "metadata": {},
   "outputs": [
    {
     "name": "stdout",
     "output_type": "stream",
     "text": [
      "original array:\n",
      "[[2 5]\n",
      " [4 4]]\n",
      "sort along first axis\n",
      "[[2 4]\n",
      " [4 5]]\n",
      "sort along last axis\n"
     ]
    },
    {
     "data": {
      "text/plain": [
       "array([[2, 4],\n",
       "       [4, 5]])"
      ]
     },
     "execution_count": 18,
     "metadata": {},
     "output_type": "execute_result"
    }
   ],
   "source": [
    "a=[[2,5],[4,4]]\n",
    "b=np.array(a)\n",
    "print('original array:')\n",
    "print(b)\n",
    "print('sort along first axis')\n",
    "c=np.sort(b,axis=0)\n",
    "print(c)\n",
    "print('sort along last axis')\n",
    "np.sort(c,axis=1)"
   ]
  },
  {
   "cell_type": "markdown",
   "metadata": {},
   "source": [
    "Q16. Write the NumPy program to sort pairs of first name and last name\n",
    "return their indices (first by last name, then by first name).\n",
    "\n",
    "    first_names - ( Betsey, Shelley, Lanell, Genesis, Margery )\n",
    "    last_names - ( Battle, Brien, Plotner, Stahl, Woolum )\n",
    "    Expected Output-\n",
    "    [1 3 2 4 0]"
   ]
  },
  {
   "cell_type": "code",
   "execution_count": 19,
   "metadata": {},
   "outputs": [
    {
     "data": {
      "text/plain": [
       "array([1, 3, 2, 4, 0], dtype=int64)"
      ]
     },
     "execution_count": 19,
     "metadata": {},
     "output_type": "execute_result"
    }
   ],
   "source": [
    "first_names=( 'Margery','Betsey', 'Shelley', 'Lanell', 'Genesis' )\n",
    "last_names=( 'Woolum','Battle', 'Plotner','Brien',  'Stahl' )\n",
    "fi=np.array(first_names)\n",
    "la=np.array(last_names)\n",
    "np.lexsort((fi,la))"
   ]
  },
  {
   "cell_type": "markdown",
   "metadata": {},
   "source": [
    "Q17. Write the NumPy program to get the values and indices of the\n",
    "elements that are bigger than 10 in the given array?\n",
    "\n",
    "    Original array-\n",
    "    [[ 0 10 20]\n",
    "    [20 30 40]]\n",
    "    Values bigger than 10 = [20 20 30 40]\n",
    "    Their indices are (array([0, 1, 1, 1]), array([2, 0, 1, 2]))"
   ]
  },
  {
   "cell_type": "code",
   "execution_count": 20,
   "metadata": {},
   "outputs": [
    {
     "data": {
      "text/plain": [
       "array([20, 20, 30, 40])"
      ]
     },
     "execution_count": 20,
     "metadata": {},
     "output_type": "execute_result"
    }
   ],
   "source": [
    "a=[[ 0 ,10 ,20],\n",
    "[20 ,30, 40]]\n",
    "b=np.array(a)\n",
    "b[b>10]"
   ]
  },
  {
   "cell_type": "markdown",
   "metadata": {},
   "source": [
    "Q18. Write the NumPy program to find the memory size of a NumPy\n",
    "array?\n",
    "\n",
    "    Expected Output128 bytes\n"
   ]
  },
  {
   "cell_type": "code",
   "execution_count": 21,
   "metadata": {},
   "outputs": [
    {
     "name": "stdout",
     "output_type": "stream",
     "text": [
      "size of the array is:\n"
     ]
    },
    {
     "data": {
      "text/plain": [
       "48"
      ]
     },
     "execution_count": 21,
     "metadata": {},
     "output_type": "execute_result"
    }
   ],
   "source": [
    "a=np.ones((3,2))\n",
    "print('size of the array is:')\n",
    "a.size*(a.itemsize)"
   ]
  },
  {
   "cell_type": "markdown",
   "metadata": {},
   "source": [
    "## Great Job!"
   ]
  }
 ],
 "metadata": {
  "kernelspec": {
   "display_name": "Python 3",
   "language": "python",
   "name": "python3"
  },
  "language_info": {
   "codemirror_mode": {
    "name": "ipython",
    "version": 3
   },
   "file_extension": ".py",
   "mimetype": "text/x-python",
   "name": "python",
   "nbconvert_exporter": "python",
   "pygments_lexer": "ipython3",
   "version": "3.7.4"
  }
 },
 "nbformat": 4,
 "nbformat_minor": 2
}
