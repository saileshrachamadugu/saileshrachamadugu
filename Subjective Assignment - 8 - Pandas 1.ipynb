{
 "cells": [
  {
   "cell_type": "markdown",
   "metadata": {},
   "source": [
    "# Assignment"
   ]
  },
  {
   "cell_type": "markdown",
   "metadata": {},
   "source": [
    "Q1. Write the Python program to add, subtract, multiply and divide\n",
    "two pandas series ?\n",
    "\n",
    "    Sample Series- [2, 4, 6, 8, 10], [1, 3, 5, 7, 9]"
   ]
  },
  {
   "cell_type": "code",
   "execution_count": 6,
   "metadata": {},
   "outputs": [
    {
     "name": "stdout",
     "output_type": "stream",
     "text": [
      "0     3\n",
      "1     7\n",
      "2    11\n",
      "3    15\n",
      "4    19\n",
      "dtype: int64\n",
      "0    1\n",
      "1    1\n",
      "2    1\n",
      "3    1\n",
      "4    1\n",
      "dtype: int64\n",
      "0     2\n",
      "1    12\n",
      "2    30\n",
      "3    56\n",
      "4    90\n",
      "dtype: int64\n",
      "0    2.000000\n",
      "1    1.333333\n",
      "2    1.200000\n",
      "3    1.142857\n",
      "4    1.111111\n",
      "dtype: float64\n"
     ]
    }
   ],
   "source": [
    "import pandas as pd\n",
    "s1=pd.Series([2, 4, 6, 8, 10])\n",
    "s2=pd.Series([1, 3, 5, 7, 9])\n",
    "print(s1+s2)\n",
    "#-----------------\n",
    "print(s1-s2)\n",
    "#---------------------\n",
    "print(s1*s2)\n",
    "#---------------------------\n",
    "print(s1/s2)"
   ]
  },
  {
   "cell_type": "markdown",
   "metadata": {},
   "source": [
    "Q2. Write a Python program to convert a dictionary to the Pandas\n",
    "Series?\n",
    "    \n",
    "    Sample SeriesOriginal dictionary-\n",
    "    {'a': 100, 'b': 200, 'c': 300, 'd': 400, 'e': 800}\n",
    "    Converted series -\n",
    "    a 100\n",
    "    b 200\n",
    "    c 300\n",
    "    d 400\n",
    "    e 800\n",
    "    dtype- int64"
   ]
  },
  {
   "cell_type": "code",
   "execution_count": 7,
   "metadata": {},
   "outputs": [
    {
     "data": {
      "text/plain": [
       "a    100\n",
       "b    200\n",
       "c    300\n",
       "d    400\n",
       "e    800\n",
       "dtype: int64"
      ]
     },
     "execution_count": 7,
     "metadata": {},
     "output_type": "execute_result"
    }
   ],
   "source": [
    "dic={'a': 100, 'b': 200, 'c': 300, 'd': 400, 'e': 800}\n",
    "pd.Series(dic)"
   ]
  },
  {
   "cell_type": "markdown",
   "metadata": {},
   "source": [
    "Q3. Write a python program to change the data type of given a\n",
    "column or a Series?\n",
    "\n",
    "    Sample SeriesOriginal Data Series0 100\n",
    "    1 200\n",
    "    2 python\n",
    "    3 300.12\n",
    "    4 400\n",
    "    dtype- object\n",
    "    Change the said data type to numeric0 100.00\n",
    "    1 200.00\n",
    "    2 NaN\n",
    "    3 300.12\n",
    "    4 400.00\n",
    "    dtype- float64\n"
   ]
  },
  {
   "cell_type": "code",
   "execution_count": 10,
   "metadata": {},
   "outputs": [
    {
     "data": {
      "text/plain": [
       "0       100\n",
       "1       200\n",
       "2    300.12\n",
       "3    python\n",
       "4       400\n",
       "dtype: object"
      ]
     },
     "execution_count": 10,
     "metadata": {},
     "output_type": "execute_result"
    }
   ],
   "source": [
    "a=pd.Series([100,200,300.12,'python',400])\n",
    "a.astype(float,errors='ignore')"
   ]
  },
  {
   "cell_type": "markdown",
   "metadata": {},
   "source": [
    "Q4. Write the python pandas program to convert the first column of a\n",
    "DataFrame as a Series?\n",
    "\n",
    "    Sample OutputOriginal DataFramecol1 col2 col3\n",
    "    0 1 4 7\n",
    "    1 2 5 5\n",
    "    2 3 6 8\n",
    "    3 4 9 12\n",
    "    4 7 5 1\n",
    "    5 11 0 11\n",
    "    1st column as a Series0 1\n",
    "    1 2\n",
    "    2 3\n",
    "    3 4\n",
    "    4 7\n",
    "    5 11\n",
    "    Name- col1, dtype- int64\n",
    "    <class 'pandas.core.series.Series'>"
   ]
  },
  {
   "cell_type": "code",
   "execution_count": 14,
   "metadata": {},
   "outputs": [
    {
     "name": "stdout",
     "output_type": "stream",
     "text": [
      "        name  score  attempts qualify\n",
      "0  Anastasia   12.5         1     yes\n",
      "1       Dima    9.0         3      no\n",
      "2  Katherine   16.5         2     yes\n",
      "3      James    NaN         3      no\n",
      "4      Emily    9.0         2     no \n",
      "5    Michael   20.0         3    yes \n",
      "6    Matthew   14.5         1     yes\n",
      "7      Laura    NaN         1      no\n",
      "8      Kevin    8.0         2      no\n",
      "9      Jonas   19.0         1     yes\n",
      "--------------------------\n",
      "0    Anastasia\n",
      "1         Dima\n",
      "2    Katherine\n",
      "3        James\n",
      "4        Emily\n",
      "5      Michael\n",
      "6      Matthew\n",
      "7        Laura\n",
      "8        Kevin\n",
      "9        Jonas\n",
      "Name: name, dtype: object\n",
      "<class 'pandas.core.series.Series'>\n"
     ]
    }
   ],
   "source": [
    "import numpy as np\n",
    "exam_data = {'name': ['Anastasia', 'Dima', 'Katherine', 'James', 'Emily', 'Michael',\n",
    "'Matthew', 'Laura', 'Kevin', 'Jonas'],\n",
    "'score': [12.5, 9, 16.5, np.nan, 9, 20, 14.5, np.nan, 8, 19],\n",
    "'attempts':[1, 3, 2, 3, 2, 3, 1, 1, 2, 1],\n",
    "'qualify':[ 'yes', 'no', 'yes' , 'no', ' no ', ' yes ', 'yes', 'no', 'no', 'yes' ] }\n",
    "df=pd.DataFrame(exam_data)\n",
    "print(df)\n",
    "print('--------------------------')\n",
    "print(df['name'])\n",
    "print(type(df['name']))"
   ]
  },
  {
   "cell_type": "markdown",
   "metadata": {},
   "source": [
    "Q5. Write a pandas program to create the mean and standard\n",
    "deviation of the data of a given Series?\n",
    "\n",
    "    Sample OutputOriginal Data Series0 1\n",
    "    1 2\n",
    "    2 3\n",
    "    3 4\n",
    "    4 5\n",
    "    5 6\n",
    "    6 7\n",
    "    7 8\n",
    "    8 9\n",
    "    9 5\n",
    "    10 3\n",
    "    dtype- int64\n",
    "    Mean of the said Data Series4.81818181818\n",
    "    Standard deviation of the said Data Series2.52262489555"
   ]
  },
  {
   "cell_type": "code",
   "execution_count": 15,
   "metadata": {},
   "outputs": [
    {
     "name": "stdout",
     "output_type": "stream",
     "text": [
      "mean is : 4.818181818181818\n",
      "standard deviation is:  2.522624895547565\n"
     ]
    }
   ],
   "source": [
    "a=pd.Series([1,2,3,4,5,6,7,8,9,5,3])\n",
    "print('mean is :',a.mean())\n",
    "print('standard deviation is: ',a.std())"
   ]
  },
  {
   "cell_type": "markdown",
   "metadata": {},
   "source": [
    "Q6. Write a pandas program to get powers of an array values\n",
    "element-wise?\n",
    " \n",
    "Note First array elements raised the powers from the second array.\n",
    "\n",
    "    Sample data: {'X ':[78,85,96,80,86], ' Y ':[84,94,89,83,86],'Z':[86,97,96,72,83]}\n",
    "    Expected Output:\n",
    "    X Y Z\n",
    "    0 78 84 86\n",
    "    1 85 94 97\n",
    "    2 96 89 96\n",
    "    3 80 83 72\n",
    "    4 86 86 83"
   ]
  },
  {
   "cell_type": "code",
   "execution_count": 16,
   "metadata": {},
   "outputs": [
    {
     "data": {
      "text/html": [
       "<div>\n",
       "<style scoped>\n",
       "    .dataframe tbody tr th:only-of-type {\n",
       "        vertical-align: middle;\n",
       "    }\n",
       "\n",
       "    .dataframe tbody tr th {\n",
       "        vertical-align: top;\n",
       "    }\n",
       "\n",
       "    .dataframe thead th {\n",
       "        text-align: right;\n",
       "    }\n",
       "</style>\n",
       "<table border=\"1\" class=\"dataframe\">\n",
       "  <thead>\n",
       "    <tr style=\"text-align: right;\">\n",
       "      <th></th>\n",
       "      <th>X</th>\n",
       "      <th>Y</th>\n",
       "      <th>Z</th>\n",
       "    </tr>\n",
       "  </thead>\n",
       "  <tbody>\n",
       "    <tr>\n",
       "      <td>0</td>\n",
       "      <td>78</td>\n",
       "      <td>84</td>\n",
       "      <td>86</td>\n",
       "    </tr>\n",
       "    <tr>\n",
       "      <td>1</td>\n",
       "      <td>85</td>\n",
       "      <td>94</td>\n",
       "      <td>97</td>\n",
       "    </tr>\n",
       "    <tr>\n",
       "      <td>2</td>\n",
       "      <td>96</td>\n",
       "      <td>89</td>\n",
       "      <td>96</td>\n",
       "    </tr>\n",
       "    <tr>\n",
       "      <td>3</td>\n",
       "      <td>80</td>\n",
       "      <td>83</td>\n",
       "      <td>72</td>\n",
       "    </tr>\n",
       "    <tr>\n",
       "      <td>4</td>\n",
       "      <td>86</td>\n",
       "      <td>86</td>\n",
       "      <td>83</td>\n",
       "    </tr>\n",
       "  </tbody>\n",
       "</table>\n",
       "</div>"
      ],
      "text/plain": [
       "   X    Y    Z\n",
       "0  78   84  86\n",
       "1  85   94  97\n",
       "2  96   89  96\n",
       "3  80   83  72\n",
       "4  86   86  83"
      ]
     },
     "execution_count": 16,
     "metadata": {},
     "output_type": "execute_result"
    }
   ],
   "source": [
    "a=pd.DataFrame( {'X ':[78,85,96,80,86], ' Y ':[84,94,89,83,86],'Z':[86,97,96,72,83]})\n",
    "a"
   ]
  },
  {
   "cell_type": "markdown",
   "metadata": {},
   "source": [
    "Q7. Write the pandas program to get the first 3 rows of a given\n",
    "DataFrame?\n",
    "\n",
    "    Sample Python dictionary data and list labelsexam_data = {'name': ['Anastasia', 'Dima', 'Katherine', 'James', 'Emily', 'Michael',\n",
    "    'Matthew', 'Laura', 'Kevin', 'Jonas'],\n",
    "    'score': [12.5, 9, 16.5, np.nan, 9, 20, 14.5, np.nan, 8, 19],\n",
    "    'attempts'- [1, 3, 2, 3, 2, 3, 1, 1, 2, 1],\n",
    "    'qualify'- [ 'yes', 'no', 'yes' , 'no', ' no ', ' yes ', 'yes', 'no', 'no', 'yes' ] }\n",
    "    labels = ['a', 'b', 'c', 'd', 'e', 'f', 'g', 'h', 'i', 'j' ]\n",
    "    Expected OutputFirst three rows of the data frameattempts name qualify score\n",
    "    a 1 Anastasia yes 12.5\n",
    "    b 3 Dima no 9.0\n",
    "    c 2 Katherine yes 16.5"
   ]
  },
  {
   "cell_type": "code",
   "execution_count": 19,
   "metadata": {},
   "outputs": [
    {
     "data": {
      "text/html": [
       "<div>\n",
       "<style scoped>\n",
       "    .dataframe tbody tr th:only-of-type {\n",
       "        vertical-align: middle;\n",
       "    }\n",
       "\n",
       "    .dataframe tbody tr th {\n",
       "        vertical-align: top;\n",
       "    }\n",
       "\n",
       "    .dataframe thead th {\n",
       "        text-align: right;\n",
       "    }\n",
       "</style>\n",
       "<table border=\"1\" class=\"dataframe\">\n",
       "  <thead>\n",
       "    <tr style=\"text-align: right;\">\n",
       "      <th></th>\n",
       "      <th>name</th>\n",
       "      <th>score</th>\n",
       "      <th>attempts</th>\n",
       "      <th>qualify</th>\n",
       "    </tr>\n",
       "  </thead>\n",
       "  <tbody>\n",
       "    <tr>\n",
       "      <td>0</td>\n",
       "      <td>Anastasia</td>\n",
       "      <td>12.5</td>\n",
       "      <td>1</td>\n",
       "      <td>yes</td>\n",
       "    </tr>\n",
       "    <tr>\n",
       "      <td>1</td>\n",
       "      <td>Dima</td>\n",
       "      <td>9.0</td>\n",
       "      <td>3</td>\n",
       "      <td>no</td>\n",
       "    </tr>\n",
       "    <tr>\n",
       "      <td>2</td>\n",
       "      <td>Katherine</td>\n",
       "      <td>16.5</td>\n",
       "      <td>2</td>\n",
       "      <td>yes</td>\n",
       "    </tr>\n",
       "  </tbody>\n",
       "</table>\n",
       "</div>"
      ],
      "text/plain": [
       "        name  score  attempts qualify\n",
       "0  Anastasia   12.5         1     yes\n",
       "1       Dima    9.0         3      no\n",
       "2  Katherine   16.5         2     yes"
      ]
     },
     "execution_count": 19,
     "metadata": {},
     "output_type": "execute_result"
    }
   ],
   "source": [
    "import numpy as np\n",
    "exam_data = {'name': ['Anastasia', 'Dima', 'Katherine', 'James', 'Emily', 'Michael',\n",
    "'Matthew', 'Laura', 'Kevin', 'Jonas'],\n",
    "'score': [12.5, 9, 16.5, np.nan, 9, 20, 14.5, np.nan, 8, 19],\n",
    "'attempts':[1, 3, 2, 3, 2, 3, 1, 1, 2, 1],\n",
    "'qualify':[ 'yes', 'no', 'yes' , 'no', ' no ', ' yes ', 'yes', 'no', 'no', 'yes' ] }\n",
    "df=pd.DataFrame(exam_data)\n",
    "df.head(3)"
   ]
  },
  {
   "cell_type": "markdown",
   "metadata": {},
   "source": [
    "Q8: Write the pandas program to select the specified columns and\n",
    "the rows from a given data frame?\n",
    "\n",
    "    Sample Python dictionary data and list labelsSelect 'name' and 'score' columns in rows 1, 3, 5, 6 from the following data frame.\n",
    "    exam_data = {'name ': [ 'Anastasia', 'Dima', 'Katherine', 'James', 'Emily', 'Michael',\n",
    "    'Matthew', 'Laura', 'Kevin', 'Jonas'],\n",
    "    'score'- [12.5, 9, 16.5, np.nan, 9, 20, 14.5, np.nan, 8, 19],\n",
    "    'attempts'- [1, 3, 2, 3, 2, 3, 1, 1, 2, 1],\n",
    "    'qualify'- ['yes', 'no', 'yes', 'no', 'no', 'yes', 'yes', 'no', 'no', 'yes'] }\n",
    "    labels = ['a ', ' b ', ' c ', ' d ', ' e ', ' f ', ' g ', 'h', 'i', 'j']\n",
    "    Expected OutputSelect specific columns and rowsname score\n",
    "    b Dima 9.0\n",
    "    d James NaN\n",
    "    f Michael 20.0\n",
    "    g Matthew 14.5"
   ]
  },
  {
   "cell_type": "code",
   "execution_count": 20,
   "metadata": {},
   "outputs": [
    {
     "data": {
      "text/html": [
       "<div>\n",
       "<style scoped>\n",
       "    .dataframe tbody tr th:only-of-type {\n",
       "        vertical-align: middle;\n",
       "    }\n",
       "\n",
       "    .dataframe tbody tr th {\n",
       "        vertical-align: top;\n",
       "    }\n",
       "\n",
       "    .dataframe thead th {\n",
       "        text-align: right;\n",
       "    }\n",
       "</style>\n",
       "<table border=\"1\" class=\"dataframe\">\n",
       "  <thead>\n",
       "    <tr style=\"text-align: right;\">\n",
       "      <th></th>\n",
       "      <th>name</th>\n",
       "      <th>score</th>\n",
       "      <th>attempts</th>\n",
       "      <th>qualify</th>\n",
       "    </tr>\n",
       "  </thead>\n",
       "  <tbody>\n",
       "    <tr>\n",
       "      <td>b</td>\n",
       "      <td>Dima</td>\n",
       "      <td>9.0</td>\n",
       "      <td>3</td>\n",
       "      <td>no</td>\n",
       "    </tr>\n",
       "    <tr>\n",
       "      <td>d</td>\n",
       "      <td>James</td>\n",
       "      <td>NaN</td>\n",
       "      <td>3</td>\n",
       "      <td>no</td>\n",
       "    </tr>\n",
       "    <tr>\n",
       "      <td>f</td>\n",
       "      <td>Michael</td>\n",
       "      <td>20.0</td>\n",
       "      <td>3</td>\n",
       "      <td>yes</td>\n",
       "    </tr>\n",
       "    <tr>\n",
       "      <td>h</td>\n",
       "      <td>Laura</td>\n",
       "      <td>NaN</td>\n",
       "      <td>1</td>\n",
       "      <td>no</td>\n",
       "    </tr>\n",
       "  </tbody>\n",
       "</table>\n",
       "</div>"
      ],
      "text/plain": [
       "       name   score  attempts qualify\n",
       " b      Dima    9.0         3      no\n",
       " d     James    NaN         3      no\n",
       " f   Michael   20.0         3     yes\n",
       "h      Laura    NaN         1      no"
      ]
     },
     "execution_count": 20,
     "metadata": {},
     "output_type": "execute_result"
    }
   ],
   "source": [
    "exam_data = {'name ': [ 'Anastasia', 'Dima', 'Katherine', 'James', 'Emily', 'Michael',\n",
    "'Matthew', 'Laura', 'Kevin', 'Jonas'],\n",
    "'score':[12.5, 9, 16.5, np.nan, 9, 20, 14.5, np.nan, 8, 19],\n",
    "'attempts':[1, 3, 2, 3, 2, 3, 1, 1, 2, 1],\n",
    "'qualify':['yes', 'no', 'yes', 'no', 'no', 'yes', 'yes', 'no', 'no', 'yes'] }\n",
    "labels = ['a ', ' b ', ' c ', ' d ', ' e ', ' f ', ' g ', 'h', 'i', 'j']\n",
    "df=pd.DataFrame(exam_data,index=labels)\n",
    "df.iloc[[1,3,5,7]]"
   ]
  },
  {
   "cell_type": "markdown",
   "metadata": {},
   "source": [
    "Q9. Write the pandas program to calculate mean score for each\n",
    "different student in DataFrame?\n",
    "\n",
    "    Sample Python dictionary data and list labelsexam_data = {'name': ['Anastasia', 'Dima', 'Katherine', 'James', 'Emily', 'Michael',\n",
    "    'Matthew', 'Laura', 'Kevin', 'Jonas'],\n",
    "    'score': [12.5, 9, 16.5, np.nan, 9, 20, 14.5, np.nan, 8, 19],\n",
    "    'attempts'- [1, 3, 2, 3, 2, 3, 1, 1, 2, 1],\n",
    "    'qualify'- ['yes', 'no', ' yes ', ' no ', ' no ', ' yes ', ' yes ', ' no ', ' no ', ' yes '] }\n",
    "    labels = ['a', 'b', 'c', 'd', 'e', 'f', 'g', 'h', 'i', 'j']\n",
    "    Expected OutputMean score for each different student in data frame:\n",
    "    13.5625"
   ]
  },
  {
   "cell_type": "code",
   "execution_count": 21,
   "metadata": {},
   "outputs": [
    {
     "name": "stdout",
     "output_type": "stream",
     "text": [
      "The mean score is : 13.5625\n"
     ]
    }
   ],
   "source": [
    "exam_data = {'name ': [ 'Anastasia', 'Dima', 'Katherine', 'James', 'Emily', 'Michael',\n",
    "'Matthew', 'Laura', 'Kevin', 'Jonas'],\n",
    "'score':[12.5, 9, 16.5, np.nan, 9, 20, 14.5, np.nan, 8, 19],\n",
    "'attempts':[1, 3, 2, 3, 2, 3, 1, 1, 2, 1],\n",
    "'qualify':['yes', 'no', 'yes', 'no', 'no', 'yes', 'yes', 'no', 'no', 'yes'] }\n",
    "labels = ['a ', ' b ', ' c ', ' d ', ' e ', ' f ', ' g ', 'h', 'i', 'j']\n",
    "df=pd.DataFrame(exam_data,index=labels)\n",
    "print('The mean score is :',df['score'].mean())"
   ]
  },
  {
   "cell_type": "markdown",
   "metadata": {},
   "source": [
    "Q10. Write the Pandas program to rename columns of a given\n",
    "DataFrame ?\n",
    "\n",
    "    Sample dataOriginal data frame\n",
    "    col1 col2 col3\n",
    "    0 1 4 7\n",
    "    1 2 5 8\n",
    "    2 3 6 9\n",
    "    New data frame after renaming columns:\n",
    "    Column1 Column2 Column3\n",
    "    0 1 4 7\n",
    "    1 2 5 8\n",
    "    2 3 6 9"
   ]
  },
  {
   "cell_type": "code",
   "execution_count": 22,
   "metadata": {},
   "outputs": [
    {
     "name": "stdout",
     "output_type": "stream",
     "text": [
      "   col1  col2  col3\n",
      "0     1     4     7\n",
      "1     2     5     5\n",
      "2     3     6     8\n",
      "3     4     9    12\n",
      "4     7     0     1\n",
      "5    11     3    11\n"
     ]
    },
    {
     "data": {
      "text/html": [
       "<div>\n",
       "<style scoped>\n",
       "    .dataframe tbody tr th:only-of-type {\n",
       "        vertical-align: middle;\n",
       "    }\n",
       "\n",
       "    .dataframe tbody tr th {\n",
       "        vertical-align: top;\n",
       "    }\n",
       "\n",
       "    .dataframe thead th {\n",
       "        text-align: right;\n",
       "    }\n",
       "</style>\n",
       "<table border=\"1\" class=\"dataframe\">\n",
       "  <thead>\n",
       "    <tr style=\"text-align: right;\">\n",
       "      <th></th>\n",
       "      <th>column1</th>\n",
       "      <th>column2</th>\n",
       "      <th>column3</th>\n",
       "    </tr>\n",
       "  </thead>\n",
       "  <tbody>\n",
       "    <tr>\n",
       "      <td>0</td>\n",
       "      <td>1</td>\n",
       "      <td>4</td>\n",
       "      <td>7</td>\n",
       "    </tr>\n",
       "    <tr>\n",
       "      <td>1</td>\n",
       "      <td>2</td>\n",
       "      <td>5</td>\n",
       "      <td>5</td>\n",
       "    </tr>\n",
       "    <tr>\n",
       "      <td>2</td>\n",
       "      <td>3</td>\n",
       "      <td>6</td>\n",
       "      <td>8</td>\n",
       "    </tr>\n",
       "    <tr>\n",
       "      <td>3</td>\n",
       "      <td>4</td>\n",
       "      <td>9</td>\n",
       "      <td>12</td>\n",
       "    </tr>\n",
       "    <tr>\n",
       "      <td>4</td>\n",
       "      <td>7</td>\n",
       "      <td>0</td>\n",
       "      <td>1</td>\n",
       "    </tr>\n",
       "    <tr>\n",
       "      <td>5</td>\n",
       "      <td>11</td>\n",
       "      <td>3</td>\n",
       "      <td>11</td>\n",
       "    </tr>\n",
       "  </tbody>\n",
       "</table>\n",
       "</div>"
      ],
      "text/plain": [
       "   column1  column2  column3\n",
       "0        1        4        7\n",
       "1        2        5        5\n",
       "2        3        6        8\n",
       "3        4        9       12\n",
       "4        7        0        1\n",
       "5       11        3       11"
      ]
     },
     "execution_count": 22,
     "metadata": {},
     "output_type": "execute_result"
    }
   ],
   "source": [
    "a={'col1': [1,2,3,4,7,11],'col2':[4,5,6,9,0,3],'col3':[7,5,8,12,1,11]}\n",
    "df=pd.DataFrame(a)\n",
    "print(df)\n",
    "df.rename(columns={'col1':'column1','col2':'column2','col3':'column3'},inplace=True)\n",
    "df"
   ]
  },
  {
   "cell_type": "markdown",
   "metadata": {},
   "source": [
    "Q11. Write a pandas program to count city-wise number of people from\n",
    "a given of data set (city, name of the person)?\n",
    "\n",
    "    Sample data-\n",
    "    city Number of people\n",
    "    0 California 4\n",
    "    1 Georgia 2\n",
    "    2 Los Angeles 4"
   ]
  },
  {
   "cell_type": "code",
   "execution_count": 23,
   "metadata": {},
   "outputs": [
    {
     "name": "stdout",
     "output_type": "stream",
     "text": [
      "     city name_of_person\n",
      "0     hyd            ram\n",
      "1    bglr            sai\n",
      "2     hyd         vishal\n",
      "3    bglr          sikka\n",
      "4  mumbai         pravin\n",
      "5     vzg           bala\n",
      "----------------------\n",
      "bglr      2\n",
      "hyd       2\n",
      "vzg       1\n",
      "mumbai    1\n",
      "Name: city, dtype: int64\n"
     ]
    }
   ],
   "source": [
    "a={'city':['hyd','bglr', 'hyd','bglr','mumbai','vzg'],'name_of_person':['ram','sai','vishal','sikka','pravin','bala']}\n",
    "\n",
    "df=pd.DataFrame(a)\n",
    "print(df)\n",
    "print('----------------------')\n",
    "print(df['city'].value_counts())"
   ]
  },
  {
   "cell_type": "markdown",
   "metadata": {},
   "source": [
    "Q12. Write a pandas program to widen output display to see more\n",
    "columns?\n",
    "    \n",
    "    Sample dataOriginal data frame\n",
    "    col1 col2 col3\n",
    "    0 1 4 7\n",
    "    1 4 5 8\n",
    "    2 3 6 9\n",
    "    3 4 7 0\n",
    "    4 5 8 1"
   ]
  },
  {
   "cell_type": "code",
   "execution_count": 24,
   "metadata": {},
   "outputs": [
    {
     "name": "stdout",
     "output_type": "stream",
     "text": [
      "   col1  col2  col3\n",
      "0     1     4     7\n",
      "1     2     5     5\n",
      "2     3     6     8\n",
      "3     4     9    12\n",
      "4     7     0     1\n",
      "5    11     3    11\n"
     ]
    },
    {
     "data": {
      "text/html": [
       "<div>\n",
       "<style scoped>\n",
       "    .dataframe tbody tr th:only-of-type {\n",
       "        vertical-align: middle;\n",
       "    }\n",
       "\n",
       "    .dataframe tbody tr th {\n",
       "        vertical-align: top;\n",
       "    }\n",
       "\n",
       "    .dataframe thead th {\n",
       "        text-align: right;\n",
       "    }\n",
       "</style>\n",
       "<table border=\"1\" class=\"dataframe\">\n",
       "  <thead>\n",
       "    <tr style=\"text-align: right;\">\n",
       "      <th></th>\n",
       "      <th>col1</th>\n",
       "      <th>col2</th>\n",
       "      <th>col3</th>\n",
       "    </tr>\n",
       "  </thead>\n",
       "  <tbody>\n",
       "    <tr>\n",
       "      <td>0</td>\n",
       "      <td>1</td>\n",
       "      <td>4</td>\n",
       "      <td>7</td>\n",
       "    </tr>\n",
       "    <tr>\n",
       "      <td>1</td>\n",
       "      <td>2</td>\n",
       "      <td>5</td>\n",
       "      <td>5</td>\n",
       "    </tr>\n",
       "    <tr>\n",
       "      <td>2</td>\n",
       "      <td>3</td>\n",
       "      <td>6</td>\n",
       "      <td>8</td>\n",
       "    </tr>\n",
       "    <tr>\n",
       "      <td>3</td>\n",
       "      <td>4</td>\n",
       "      <td>9</td>\n",
       "      <td>12</td>\n",
       "    </tr>\n",
       "    <tr>\n",
       "      <td>4</td>\n",
       "      <td>7</td>\n",
       "      <td>0</td>\n",
       "      <td>1</td>\n",
       "    </tr>\n",
       "    <tr>\n",
       "      <td>5</td>\n",
       "      <td>11</td>\n",
       "      <td>3</td>\n",
       "      <td>11</td>\n",
       "    </tr>\n",
       "  </tbody>\n",
       "</table>\n",
       "</div>"
      ],
      "text/plain": [
       "   col1  col2  col3\n",
       "0     1     4     7\n",
       "1     2     5     5\n",
       "2     3     6     8\n",
       "3     4     9    12\n",
       "4     7     0     1\n",
       "5    11     3    11"
      ]
     },
     "execution_count": 24,
     "metadata": {},
     "output_type": "execute_result"
    }
   ],
   "source": [
    "a={'col1': [1,2,3,4,7,11],'col2':[4,5,6,9,0,3],'col3':[7,5,8,12,1,11]}\n",
    "df=pd.DataFrame(a)\n",
    "print(df)\n",
    "pd.set_option('display.max_columns',100)\n",
    "pd.set_option('display.width',80)\n",
    "df"
   ]
  },
  {
   "cell_type": "markdown",
   "metadata": {},
   "source": [
    "Q13. Write a pandas program to convert the data frame column type\n",
    "from string to DateTime?\n",
    "    \n",
    "    Sample dataString Date0 3/11/2000\n",
    "    1 3/12/2000\n",
    "    2 3/13/2000\n",
    "    dtype- object\n",
    "    Original DataFrame (string to datetime)-\n",
    "    0\n",
    "    0 2000-03-11\n",
    "    1 2000-03-12\n",
    "    2 2000-03-13"
   ]
  },
  {
   "cell_type": "code",
   "execution_count": 25,
   "metadata": {},
   "outputs": [
    {
     "name": "stdout",
     "output_type": "stream",
     "text": [
      "  String_Date\n",
      "0   3/11/2000\n",
      "1   3/12/2000\n",
      "2   3/13/2000\n"
     ]
    },
    {
     "data": {
      "text/plain": [
       "0   2000-03-11\n",
       "1   2000-03-12\n",
       "2   2000-03-13\n",
       "Name: String_Date, dtype: datetime64[ns]"
      ]
     },
     "execution_count": 25,
     "metadata": {},
     "output_type": "execute_result"
    }
   ],
   "source": [
    "a={'String_Date':['3/11/2000','3/12/2000','3/13/2000']}\n",
    "df=pd.DataFrame(a)\n",
    "print(df)\n",
    "df1=pd.to_datetime(df['String_Date'])\n",
    "df1"
   ]
  },
  {
   "cell_type": "markdown",
   "metadata": {},
   "source": [
    "Q14. Write a pandas program to append the data to an empty\n",
    "DataFrame?\n",
    "\n",
    "    Sample dataOriginal DataFrame- After appending some data: col1 col2 0 0 0 1 1 1 2 2 2"
   ]
  },
  {
   "cell_type": "code",
   "execution_count": 26,
   "metadata": {},
   "outputs": [
    {
     "name": "stdout",
     "output_type": "stream",
     "text": [
      "     city name_of_person\n",
      "0     hyd            ram\n",
      "1    bglr            sai\n",
      "2     hyd         vishal\n",
      "3    bglr          sikka\n",
      "4  mumbai         pravin\n",
      "5     vzg           bala\n"
     ]
    }
   ],
   "source": [
    "a={'city':['hyd','bglr', 'hyd','bglr','mumbai','vzg'],'name_of_person':['ram','sai','vishal','sikka','pravin','bala']}\n",
    "\n",
    "df2=pd.DataFrame(a)\n",
    "print(df2)"
   ]
  },
  {
   "cell_type": "markdown",
   "metadata": {},
   "source": [
    "Q15. Write a pandas program to count the number of columns of a\n",
    "DataFrame?\n",
    "\n",
    "    Sample OutputOriginal DataFrame\n",
    "    col1 col2 col3\n",
    "    0 1 4 7\n",
    "    1 2 5 8\n",
    "    2 3 6 12\n",
    "    3 4 9 1\n",
    "    4 7 5 11\n",
    "    Number of columns- 3"
   ]
  },
  {
   "cell_type": "code",
   "execution_count": 27,
   "metadata": {},
   "outputs": [
    {
     "name": "stdout",
     "output_type": "stream",
     "text": [
      "2\n"
     ]
    }
   ],
   "source": [
    "a={'city':['hyd','bglr', 'hyd','bglr','mumbai','vzg'],'name_of_person':['ram','sai','vishal','sikka','pravin','bala']}\n",
    "\n",
    "df2=pd.DataFrame(a)\n",
    "print(df2.shape[1])"
   ]
  },
  {
   "cell_type": "markdown",
   "metadata": {},
   "source": [
    "Q16. Write a Pandas program to remove the last n rows of a given\n",
    "DataFrame ?\n",
    "\n",
    "    Sample Output:\n",
    "    Original DataFrame\n",
    "    col1 col2 col3\n",
    "    0 1 4 7\n",
    "    1 2 5 5\n",
    "    2 3 6 8\n",
    "    3 4 9 12\n",
    "    4 7 5 1\n",
    "    5 11 0 11\n",
    "    After removing last 3 rows of the said DataFramecol1 col2 col3\n",
    "    0 1 4 7\n",
    "    1 2 5 5\n",
    "    2 3 6 8\n",
    "    \n",
    "     Link for Datasets\n",
    "     (https://drive.google.com/drive/folders/105ftuIwN9kqyPNEEm3E6IM7LqywjyvJa?usp=sharing)"
   ]
  },
  {
   "cell_type": "code",
   "execution_count": null,
   "metadata": {},
   "outputs": [],
   "source": []
  },
  {
   "cell_type": "markdown",
   "metadata": {},
   "source": [
    "Q17. Write a Pandas program to import excel data (coalpublic2013.xlsx\n",
    ") into a Pandas data frame."
   ]
  },
  {
   "cell_type": "code",
   "execution_count": null,
   "metadata": {},
   "outputs": [],
   "source": []
  },
  {
   "cell_type": "markdown",
   "metadata": {},
   "source": [
    "Q18. Write a Pandas program to import excel data (coalpublic2013.xlsx\n",
    ") into a data frame and find details where \"Mine Name\" starts with\n",
    "\"P.\n"
   ]
  },
  {
   "cell_type": "code",
   "execution_count": null,
   "metadata": {},
   "outputs": [],
   "source": []
  },
  {
   "cell_type": "markdown",
   "metadata": {},
   "source": [
    "Q19. Write a Pandas program to import excel data (employee.xlsx )\n",
    "into a Pandas dataframe and find the list of employees where\n",
    "hire_date> 01-01-07.\n"
   ]
  },
  {
   "cell_type": "code",
   "execution_count": null,
   "metadata": {},
   "outputs": [],
   "source": []
  },
  {
   "cell_type": "markdown",
   "metadata": {},
   "source": [
    "Q20. Write a Pandas program to import excel data (employee.xlsx )\n",
    "into a Pandas dataframe and find a list of the employees of a specified\n",
    "year"
   ]
  },
  {
   "cell_type": "code",
   "execution_count": null,
   "metadata": {},
   "outputs": [],
   "source": []
  },
  {
   "cell_type": "markdown",
   "metadata": {},
   "source": [
    "## Great Job!"
   ]
  }
 ],
 "metadata": {
  "kernelspec": {
   "display_name": "Python 3",
   "language": "python",
   "name": "python3"
  },
  "language_info": {
   "codemirror_mode": {
    "name": "ipython",
    "version": 3
   },
   "file_extension": ".py",
   "mimetype": "text/x-python",
   "name": "python",
   "nbconvert_exporter": "python",
   "pygments_lexer": "ipython3",
   "version": "3.7.4"
  }
 },
 "nbformat": 4,
 "nbformat_minor": 2
}
