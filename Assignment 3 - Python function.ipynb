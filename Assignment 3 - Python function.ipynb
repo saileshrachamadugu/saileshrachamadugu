{
 "cells": [
  {
   "cell_type": "markdown",
   "metadata": {},
   "source": [
    "## Problem Statement"
   ]
  },
  {
   "cell_type": "markdown",
   "metadata": {},
   "source": [
    "Q.1 Write a function to compute 5/0 and use try/except to catch the exceptions."
   ]
  },
  {
   "cell_type": "code",
   "execution_count": 1,
   "metadata": {},
   "outputs": [
    {
     "name": "stdout",
     "output_type": "stream",
     "text": [
      "enter first number4\n",
      "enter second number3\n",
      "1.3333333333333333\n",
      "thank you\n",
      "enter first number5\n",
      "enter second number0\n",
      "Second value cannot be zero\n",
      "thank you\n"
     ]
    }
   ],
   "source": [
    "def func1(a,b):\n",
    "    c=0\n",
    "    try:\n",
    "        c=a/b\n",
    "        print(c)\n",
    "    except ZeroDivisionError:\n",
    "        print(\"Second value cannot be zero\")\n",
    "    except:\n",
    "        print(\"try after some time\")\n",
    "    finally:\n",
    "        print(\"thank you\")\n",
    "d=int(input(\"enter first number\"))\n",
    "e=int(input(\"enter second number\"))\n",
    "func1(d,e)\n",
    "d=int(input(\"enter first number\"))\n",
    "e=int(input(\"enter second number\"))\n",
    "func1(d,e)\n",
    " "
   ]
  },
  {
   "cell_type": "markdown",
   "metadata": {},
   "source": [
    "Q.2 Implement a Python program to generate all sentences where subject is in [\"Americans\",\n",
    "\"Indians\"] and verb is in [\"Play\", \"watch\"] and the object is in [\"Baseball\",\"cricket\"].\n",
    "\n",
    "    Hint: Subject,Verb and Object should be declared in the program as shown below.\n",
    "    subjects=[\"Americans \",\"Indians\"]\n",
    "    verbs=[\"play\",\"watch\"]\n",
    "    objects=[\"Baseball\",\"Cricket\"]\n",
    "\n",
    "    Output should come as below:\n",
    "    Americans play Baseball.\n",
    "    Americans play Cricket.\n",
    "    Americans watch Baseball.\n",
    "    Americans watch Cricket.\n",
    "    Indians play Baseball.\n",
    "    Indians play Cricket.\n",
    "    Indians watch Baseball.\n",
    "    Indians watch Cricket."
   ]
  },
  {
   "cell_type": "code",
   "execution_count": 2,
   "metadata": {},
   "outputs": [
    {
     "name": "stdout",
     "output_type": "stream",
     "text": [
      "Americans  play Baseball\n",
      "Americans  play Cricket\n",
      "Americans  watch Baseball\n",
      "Americans  watch Cricket\n",
      "Indians play Baseball\n",
      "Indians play Cricket\n",
      "Indians watch Baseball\n",
      "Indians watch Cricket\n"
     ]
    }
   ],
   "source": [
    "subjects=[\"Americans \",\"Indians\"]\n",
    "verbs=[\"play\",\"watch\"]\n",
    "objects=[\"Baseball\",\"Cricket\"]\n",
    "for a in subjects:\n",
    "    for b in verbs:\n",
    "        for c in objects:\n",
    "            print(a+\" \"+b+\" \"+c)"
   ]
  },
  {
   "cell_type": "markdown",
   "metadata": {},
   "source": [
    "Q.3 Write a function so that the columns of the output matrix are powers of the input vector.\n",
    "The order of the powers is determined by the increasing boolean argument. Specifically, when\n",
    "increasing is False, the i-th output column is the input vector raised element-wise to the power\n",
    "of N - i - 1.\n",
    "\n",
    "    HINT: Such a matrix with a geometric progression in each row is named for Alexandre Theophile Vandermonde."
   ]
  },
  {
   "cell_type": "code",
   "execution_count": 3,
   "metadata": {},
   "outputs": [
    {
     "name": "stdout",
     "output_type": "stream",
     "text": [
      "enter the comma seperated number sequence1,2,3,4\n",
      "enter number of columns in output matrix3\n",
      "[[ 1  1  1]\n",
      " [ 4  2  1]\n",
      " [ 9  3  1]\n",
      " [16  4  1]]\n",
      "enter the comma seperated number sequence1,2,3,4\n",
      "enter number of columns in output matrix5\n"
     ]
    },
    {
     "data": {
      "text/plain": [
       "array([[  1,   1,   1,   1,   1],\n",
       "       [ 16,   8,   4,   2,   1],\n",
       "       [ 81,  27,   9,   3,   1],\n",
       "       [256,  64,  16,   4,   1]])"
      ]
     },
     "execution_count": 3,
     "metadata": {},
     "output_type": "execute_result"
    }
   ],
   "source": [
    "def VanderMonde(a,b):\n",
    "    c=a.split(\",\")\n",
    "    d=[]\n",
    "    for i in c:  \n",
    "        d.append(int(i))\n",
    "    f=[]\n",
    "    for i in d:\n",
    "        e=[]\n",
    "        for j in range(b-1,-1,-1):\n",
    "            e.append(i**j)\n",
    "        f.append(e)\n",
    "    import numpy as np\n",
    "    g=np.array(f)\n",
    "    return g\n",
    "a=input(\"enter the comma seperated number sequence\")\n",
    "b=int(input(\"enter number of columns in output matrix\"))\n",
    "print(VanderMonde(a,b))\n",
    "a=input(\"enter the comma seperated number sequence\")\n",
    "b=int(input(\"enter number of columns in output matrix\"))\n",
    "VanderMonde(a,b)\n",
    "        "
   ]
  }
 ],
 "metadata": {
  "kernelspec": {
   "display_name": "Python 3",
   "language": "python",
   "name": "python3"
  },
  "language_info": {
   "codemirror_mode": {
    "name": "ipython",
    "version": 3
   },
   "file_extension": ".py",
   "mimetype": "text/x-python",
   "name": "python",
   "nbconvert_exporter": "python",
   "pygments_lexer": "ipython3",
   "version": "3.7.4"
  }
 },
 "nbformat": 4,
 "nbformat_minor": 2
}
